{
  "nbformat": 4,
  "nbformat_minor": 0,
  "metadata": {
    "colab": {
      "provenance": [],
      "authorship_tag": "ABX9TyNUXamW+JMt9bkwEARkPnst",
      "include_colab_link": true
    },
    "kernelspec": {
      "name": "ir",
      "display_name": "R"
    },
    "language_info": {
      "name": "R"
    }
  },
  "cells": [
    {
      "cell_type": "markdown",
      "metadata": {
        "id": "view-in-github",
        "colab_type": "text"
      },
      "source": [
        "<a href=\"https://colab.research.google.com/github/javendaXgh/ucveconomiaestadistica1/blob/main/notebooks/clase_01_estadistica.ipynb\" target=\"_parent\"><img src=\"https://colab.research.google.com/assets/colab-badge.svg\" alt=\"Open In Colab\"/></a>"
      ]
    },
    {
      "cell_type": "code",
      "execution_count": 2,
      "metadata": {
        "colab": {
          "base_uri": "https://localhost:8080/"
        },
        "id": "2Qd77e18F6-p",
        "outputId": "1a5e59a9-2ba2-45a1-edb9-1d5926f9723b"
      },
      "outputs": [
        {
          "output_type": "stream",
          "name": "stderr",
          "text": [
            "Installing package into ‘/usr/local/lib/R/site-library’\n",
            "(as ‘lib’ is unspecified)\n",
            "\n",
            "also installing the dependencies ‘airports’, ‘cherryblossom’, ‘usdata’\n",
            "\n",
            "\n"
          ]
        }
      ],
      "source": [
        "install.packages ('openintro')"
      ]
    },
    {
      "cell_type": "code",
      "source": [
        "library (dplyr)\n",
        "library (openintro)"
      ],
      "metadata": {
        "colab": {
          "base_uri": "https://localhost:8080/"
        },
        "id": "iat60jtWGKFr",
        "outputId": "8fa7ad59-6468-4be6-bc6c-7edd7dbc2035"
      },
      "execution_count": 3,
      "outputs": [
        {
          "output_type": "stream",
          "name": "stderr",
          "text": [
            "Loading required package: airports\n",
            "\n",
            "Loading required package: cherryblossom\n",
            "\n",
            "Loading required package: usdata\n",
            "\n"
          ]
        }
      ]
    },
    {
      "cell_type": "code",
      "source": [
        "head(stent30)"
      ],
      "metadata": {
        "colab": {
          "base_uri": "https://localhost:8080/",
          "height": 299
        },
        "id": "bHirjY1FGd1r",
        "outputId": "156b5350-b7da-4d53-facf-eafd99b477a2"
      },
      "execution_count": 6,
      "outputs": [
        {
          "output_type": "display_data",
          "data": {
            "text/html": [
              "<table class=\"dataframe\">\n",
              "<caption>A tibble: 6 × 2</caption>\n",
              "<thead>\n",
              "\t<tr><th scope=col>group</th><th scope=col>outcome</th></tr>\n",
              "\t<tr><th scope=col>&lt;fct&gt;</th><th scope=col>&lt;fct&gt;</th></tr>\n",
              "</thead>\n",
              "<tbody>\n",
              "\t<tr><td>treatment</td><td>stroke</td></tr>\n",
              "\t<tr><td>treatment</td><td>stroke</td></tr>\n",
              "\t<tr><td>treatment</td><td>stroke</td></tr>\n",
              "\t<tr><td>treatment</td><td>stroke</td></tr>\n",
              "\t<tr><td>treatment</td><td>stroke</td></tr>\n",
              "\t<tr><td>treatment</td><td>stroke</td></tr>\n",
              "</tbody>\n",
              "</table>\n"
            ],
            "text/markdown": "\nA tibble: 6 × 2\n\n| group &lt;fct&gt; | outcome &lt;fct&gt; |\n|---|---|\n| treatment | stroke |\n| treatment | stroke |\n| treatment | stroke |\n| treatment | stroke |\n| treatment | stroke |\n| treatment | stroke |\n\n",
            "text/latex": "A tibble: 6 × 2\n\\begin{tabular}{ll}\n group & outcome\\\\\n <fct> & <fct>\\\\\n\\hline\n\t treatment & stroke\\\\\n\t treatment & stroke\\\\\n\t treatment & stroke\\\\\n\t treatment & stroke\\\\\n\t treatment & stroke\\\\\n\t treatment & stroke\\\\\n\\end{tabular}\n",
            "text/plain": [
              "  group     outcome\n",
              "1 treatment stroke \n",
              "2 treatment stroke \n",
              "3 treatment stroke \n",
              "4 treatment stroke \n",
              "5 treatment stroke \n",
              "6 treatment stroke "
            ]
          },
          "metadata": {}
        }
      ]
    },
    {
      "cell_type": "code",
      "source": [
        "table(stent30)"
      ],
      "metadata": {
        "colab": {
          "base_uri": "https://localhost:8080/",
          "height": 104
        },
        "id": "NZPJlxuXGsBA",
        "outputId": "0a3449c4-70ce-448e-f697-b3cc3b9903c1"
      },
      "execution_count": 7,
      "outputs": [
        {
          "output_type": "display_data",
          "data": {
            "text/plain": [
              "           outcome\n",
              "group       no event stroke\n",
              "  control        214     13\n",
              "  treatment      191     33"
            ]
          },
          "metadata": {}
        }
      ]
    }
  ]
}