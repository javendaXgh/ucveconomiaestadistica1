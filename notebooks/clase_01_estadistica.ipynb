{
  "nbformat": 4,
  "nbformat_minor": 0,
  "metadata": {
    "colab": {
      "provenance": [],
      "authorship_tag": "ABX9TyMFPffYdSwXQfM+XHWdTBd/",
      "include_colab_link": true
    },
    "kernelspec": {
      "name": "ir",
      "display_name": "R"
    },
    "language_info": {
      "name": "R"
    }
  },
  "cells": [
    {
      "cell_type": "markdown",
      "metadata": {
        "id": "view-in-github",
        "colab_type": "text"
      },
      "source": [
        "<a href=\"https://colab.research.google.com/github/javendaXgh/ucveconomiaestadistica1/blob/main/notebooks/clase_01_estadistica.ipynb\" target=\"_parent\"><img src=\"https://colab.research.google.com/assets/colab-badge.svg\" alt=\"Open In Colab\"/></a>"
      ]
    },
    {
      "cell_type": "markdown",
      "source": [
        "# Estadística I, Clase 1:  Describir los Datos\n",
        "\n",
        "Ejecución de funciones que contiene el lenguaje R para análisis descriptivo de los datos\n",
        "\n",
        "### Instalación de paquetes necesarios\n",
        "Previo a iniciar el análisis, se van a instalar algunos paquetes necesarios para poder realizar el análisis. En este caso el paquete `opeintro` que contiene distintos conjuntos de datos que se usarán a lo largo del curso"
      ],
      "metadata": {
        "id": "rTpkDuq2VcWW"
      }
    },
    {
      "cell_type": "code",
      "source": [],
      "metadata": {
        "id": "k3VRddHnZFBI"
      },
      "execution_count": null,
      "outputs": []
    },
    {
      "cell_type": "code",
      "source": [
        "install.packages ('openintro')"
      ],
      "metadata": {
        "id": "g7MMjza8Vbj0"
      },
      "execution_count": null,
      "outputs": []
    },
    {
      "cell_type": "markdown",
      "source": [
        "Luego de instalar los paquetes es necesario cargarlos en el ambiente de trabajo"
      ],
      "metadata": {
        "id": "vIaHwQz2WL5W"
      }
    },
    {
      "cell_type": "code",
      "source": [
        "library (dplyr)\n",
        "library (openintro)"
      ],
      "metadata": {
        "id": "iat60jtWGKFr"
      },
      "execution_count": null,
      "outputs": []
    },
    {
      "cell_type": "markdown",
      "source": [
        "El paquete `dplyr` se usa para la manipulación de datos en R y es de gran utilidad. Él nos permitirá seleccionar variables, modificarlas, crear nuevos atributos, así como otra gran cantidad de funcionalidades de las cuales sólo usaremos unas pocas en este curso, al no ser el mismo de programación.\n",
        "\n",
        "El otro paquete que se cargó es `openintro` que fue instalado anteriormente."
      ],
      "metadata": {
        "id": "9K6uo5uFZ-UM"
      }
    },
    {
      "cell_type": "markdown",
      "source": [
        "## Conjunto de Datos Seleccionado\n",
        "Estaremos trabajando con el conjunto `stent30` y `stent365`.\n",
        "\n",
        "Primero usaremos la función `head` para ver las primeras 6 filas. Es importante ver que luego de enununciar la función usamos el paréntesis para indicar el nombre del conjunto de datos."
      ],
      "metadata": {
        "id": "nDROR0Y_WV1T"
      }
    },
    {
      "cell_type": "code",
      "source": [
        "head(stent30)"
      ],
      "metadata": {
        "id": "bHirjY1FGd1r"
      },
      "execution_count": null,
      "outputs": []
    },
    {
      "cell_type": "markdown",
      "source": [],
      "metadata": {
        "id": "qdMDSwaUVVvI"
      }
    },
    {
      "cell_type": "code",
      "source": [
        "head(stent365)"
      ],
      "metadata": {
        "id": "dmKYD3rMW0Xb"
      },
      "execution_count": null,
      "outputs": []
    },
    {
      "cell_type": "markdown",
      "source": [
        "Si queremos ver las últimas filas se usa la función `tail`."
      ],
      "metadata": {
        "id": "auAwE4bLW6-i"
      }
    },
    {
      "cell_type": "code",
      "source": [
        "tail(stent30)"
      ],
      "metadata": {
        "id": "V7iomFjKXFDI"
      },
      "execution_count": null,
      "outputs": []
    },
    {
      "cell_type": "markdown",
      "source": [
        "Si queremos generar para este conjunto de datos una tabla de contingencia se usa la función `table`.\n",
        "Una tabla de contigencia muestra el resumen de los datos de dos variables categóricas en forma cruzada. Ver https://es.wikipedia.org/wiki/Tabla_de_contingencia"
      ],
      "metadata": {
        "id": "sWOY4jGpXHwp"
      }
    },
    {
      "cell_type": "code",
      "source": [
        "table(stent30)"
      ],
      "metadata": {
        "id": "NZPJlxuXGsBA"
      },
      "execution_count": null,
      "outputs": []
    },
    {
      "cell_type": "code",
      "source": [
        "table(stent365)"
      ],
      "metadata": {
        "id": "tz9korOpYYtT"
      },
      "execution_count": null,
      "outputs": []
    },
    {
      "cell_type": "markdown",
      "source": [
        "## Usando R como una calculadora\n",
        "### Sumar\n"
      ],
      "metadata": {
        "id": "KD1wePcjYcrj"
      }
    },
    {
      "cell_type": "code",
      "source": [
        "214 + 191"
      ],
      "metadata": {
        "id": "B7oQ17zdYkVo"
      },
      "execution_count": null,
      "outputs": []
    },
    {
      "cell_type": "markdown",
      "source": [
        "### Dividir\n"
      ],
      "metadata": {
        "id": "Qa-qsXhjYouh"
      }
    },
    {
      "cell_type": "code",
      "source": [
        "191/(214 + 191)"
      ],
      "metadata": {
        "id": "fiq8HI5uYrzA"
      },
      "execution_count": null,
      "outputs": []
    },
    {
      "cell_type": "markdown",
      "source": [
        "## Inspeccionar Conjunto de Datos Loans\n",
        "Si queremos obtener ayuda sobre una función o queremos saber cuáles datos contiene un conjunto de datos, podemos usar la función `?`"
      ],
      "metadata": {
        "id": "3TMhIP6sZGqC"
      }
    },
    {
      "cell_type": "code",
      "source": [
        "?loan50"
      ],
      "metadata": {
        "id": "5F29rFS7ZSf6"
      },
      "execution_count": null,
      "outputs": []
    },
    {
      "cell_type": "code",
      "source": [
        "?head"
      ],
      "metadata": {
        "id": "snJRlbCEZnJw"
      },
      "execution_count": null,
      "outputs": []
    },
    {
      "cell_type": "code",
      "source": [
        "# el numeral se usa para colocar comentarios en los códigos.\n",
        "# vamos a inspeccionar las primeras filas del conjunto de datos (c.d.) loan50\n",
        "head(loan50)"
      ],
      "metadata": {
        "id": "2ZqvJitsZqR6"
      },
      "execution_count": null,
      "outputs": []
    },
    {
      "cell_type": "markdown",
      "source": [
        "Vamos a usar la función `select` para seleccionar solo unas columnas de nuestro c.d. `loan50`.\n",
        "\n",
        "\n"
      ],
      "metadata": {
        "id": "lnkZf6xGZ5xa"
      }
    },
    {
      "cell_type": "code",
      "source": [
        "loan50%>%\n",
        "   sample_n(10)%>%\n",
        "   select(loan_amount,\n",
        "          interest_rate,\n",
        "          term,\n",
        "          grade,\n",
        "          state,\n",
        "          total_income,\n",
        "          homeownership)"
      ],
      "metadata": {
        "id": "WSSVdnj3Z4qZ"
      },
      "execution_count": null,
      "outputs": []
    },
    {
      "cell_type": "markdown",
      "source": [
        "La función `sample_n` acompañada del argumento `10` se usó para seleccionar aleatoriamente 10 observaciones del c.d.\n",
        "\n",
        "Ahora debemos indicar para cada una de las columnas el tipo de variable que tenemos representada.\n"
      ],
      "metadata": {
        "id": "qkJ_rmq0awoy"
      }
    },
    {
      "cell_type": "markdown",
      "source": [
        "## Otras funciones de interés\n",
        "\n",
        "- `mean`: permite obtener el promedio para una serie de datos.\n",
        "- `sum`: permite sumar todos los valores de una serie de datos\n"
      ],
      "metadata": {
        "id": "8b0P9EyDbWr6"
      }
    },
    {
      "cell_type": "code",
      "source": [
        "mean(loan50$interest_rate)"
      ],
      "metadata": {
        "id": "lH96jMA_bnG3"
      },
      "execution_count": null,
      "outputs": []
    },
    {
      "cell_type": "markdown",
      "source": [
        "el operador `$` se usa para acceder a todos los valores que tiene una columna de un c.d."
      ],
      "metadata": {
        "id": "vwEjWnttbtHt"
      }
    },
    {
      "cell_type": "code",
      "source": [
        "loan50$interest_rate"
      ],
      "metadata": {
        "id": "Syx7fcZ3b2zk"
      },
      "execution_count": null,
      "outputs": []
    },
    {
      "cell_type": "code",
      "source": [
        "sum(loan50$loan_amount)"
      ],
      "metadata": {
        "id": "QXau4TyKb45O"
      },
      "execution_count": null,
      "outputs": []
    },
    {
      "cell_type": "markdown",
      "source": [
        "Podemos ver con `sum(loan50$loan_amount)` la suma de todos los montos otorgados en prestamos.\n",
        "\n",
        "## Tabla de Contingencia para C.D. con Múltiples Tipos de Datos\n",
        "\n",
        "Si queremos crear una tabla resumen del atributo `homeownership` (tipo propietario), llamamos a `loan50` y  usamos el operador `$` para seleccionar la variable `homeownership`.\n"
      ],
      "metadata": {
        "id": "E9O9fCNRb_Mu"
      }
    },
    {
      "cell_type": "code",
      "source": [
        "table(loan50$homeownership)"
      ],
      "metadata": {
        "id": "IraaIQFZc5qQ"
      },
      "execution_count": null,
      "outputs": []
    },
    {
      "cell_type": "markdown",
      "source": [
        "Si queremos crear una tabla de contigencia para las variables `homeownership` y `grade` (grado de la hipoteca), usamos nuevamente la función table y llamamos a las dos variables"
      ],
      "metadata": {
        "id": "pogEGb8adKyS"
      }
    },
    {
      "cell_type": "code",
      "source": [
        "table(loan50$homeownership,\n",
        "      loan50$grade)"
      ],
      "metadata": {
        "id": "CxTynT41dt2O"
      },
      "execution_count": null,
      "outputs": []
    }
  ]
}