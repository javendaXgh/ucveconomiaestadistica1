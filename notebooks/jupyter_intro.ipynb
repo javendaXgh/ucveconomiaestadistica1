{
  "nbformat": 4,
  "nbformat_minor": 0,
  "metadata": {
    "colab": {
      "provenance": [],
      "authorship_tag": "ABX9TyNRGRTT8jG+d8o/P6MXwHXe",
      "include_colab_link": true
    },
    "kernelspec": {
      "name": "python3",
      "display_name": "Python 3"
    },
    "language_info": {
      "name": "python"
    }
  },
  "cells": [
    {
      "cell_type": "markdown",
      "metadata": {
        "id": "view-in-github",
        "colab_type": "text"
      },
      "source": [
        "<a href=\"https://colab.research.google.com/github/javendaXgh/ucveconomiaestadistica1/blob/main/notebooks/jupyter_intro.ipynb\" target=\"_parent\"><img src=\"https://colab.research.google.com/assets/colab-badge.svg\" alt=\"Open In Colab\"/></a>"
      ]
    },
    {
      "cell_type": "markdown",
      "source": [
        "Un cuaderno Jupyter es un documento que contiene texto, código y los resultados de su ejecución. Puedes leer un cuaderno como si fuera un libro, pero también puedes ejecutar el código, modificarlo y desarrollar nuevos programas.\n",
        "Los cuadernos Jupyter se ejecutan en un navegador web, por lo que puedes ejecutarlos sin instalar ningún software nuevo. Sin embargo, deben conectarse a un servidor Jupyter.\n",
        "Puedes instalar y ejecutar un servidor tú mismo, pero para empezar es más fácil usar un servicio como Colab, operado por Google.\n",
        "En la página del curso encontrarás algunas clases que tiene enlaces a un cuaderno Jupyter. Si haces clic en uno de estos enlaces, se abrirá un cuaderno en Colab.\n",
        "Si estás leyendo este cuaderno en Colab, deberías ver un logotipo naranja en la esquina superior izquierda que se parece a las letras CO.\n",
        "Si no estás ejecutando este cuaderno en Colab, puedes hacer clic aquí para abrirlo.\n",
        "\n",
        "## ¿Qué es un notebook?\n",
        "Un cuaderno de Jupyter se compone de celdas, cada una de las cuales contiene texto o código. Esta celda contiene texto.\n",
        "La siguiente celda contiene código.\n",
        "\n"
      ],
      "metadata": {
        "id": "exFpoy31FPzw"
      }
    },
    {
      "cell_type": "code",
      "source": [
        "print('Hola')"
      ],
      "metadata": {
        "id": "pEhu0CH4Ff47"
      },
      "execution_count": null,
      "outputs": []
    },
    {
      "cell_type": "markdown",
      "source": [
        "Haz clic en la celda anterior para seleccionarla. Deberías ver un botón a la izquierda con un triángulo dentro de un círculo, que es el icono de \"Reproducir\". Al pulsarlo, Jupyter ejecuta el código de la celda y muestra el resultado.\n",
        "Al ejecutar código en un notebook por primera vez, puede tardar unos segundos en iniciarse. Y si se trata de un notebook que no has escrito tú, podrías recibir un mensaje de advertencia. Si ejecutas un notebook de una fuente de confianza, como espero que yo también, puedes pulsar \"Ejecutar de todas formas\"."
      ],
      "metadata": {
        "id": "bTbQ5_NpF9aA"
      }
    },
    {
      "cell_type": "markdown",
      "source": [
        "En lugar de hacer clic en el botón \"Reproducir\", también puedes ejecutar el código en una celda manteniendo presionada la tecla `Mayús` y presionando `Enter`.\n",
        "Si está ejecutando este cuaderno en Colab, debería ver botones en la parte superior izquierda que dicen \"+ Code\" (código) y \"+ Text\" (texto).\n",
        "\n",
        "El primero agrega una celda de código y el segundo agrega una celda de texto. Si quieres probarlos, selecciona esta celda haciendo clic en ella, luego presiona el botón \"+ Text\". Debería aparecer una nueva celda debajo de esta."
      ],
      "metadata": {
        "id": "HFejJw4OF-PS"
      }
    },
    {
      "cell_type": "markdown",
      "source": [
        "Agrega algo de texto a la celda. Puede usar los botones para formatearlo o puede marcar el texto usando Markdown. Cuando haya terminado, mantenga presionada la tecla Mayús y presione Entrar, lo que formateará el texto que acaba de escribir y luego pasará a la siguiente celda.\n",
        "\n",
        "En cualquier momento Jupyter está en uno de dos modos:\n",
        "En el modo comando, puedes realizar operaciones que afectan a las celdas, como agregar y eliminar celdas enteras.\n",
        "\n",
        "En el modo de edición, puede editar el contenido de una celda.\n",
        "Con las celdas de texto, es obvio en qué modo se encuentra. En el modo de edición, la celda se divide verticalmente, con el texto que estás editando a la izquierda y el texto formateado a la derecha. Y verás herramientas de edición de texto en la parte superior. En el modo de comando, solo ve el texto formateado.\n",
        "\n",
        "Con las celdas de código, la diferencia es más\n",
        "sutil, pero si hay un cursor en la celda, estás en modo de edición.\n",
        "Para pasar del modo de edición al modo de comando, presione `ESC`. Para pasar del modo comando al modo edición, presione `Enter`.\n",
        "\n",
        "Si quieres obtener más información sobre markdown accede a https://www.markdownguide.org/basic-syntax/"
      ],
      "metadata": {
        "id": "LbRkxMTOGQ-_"
      }
    },
    {
      "cell_type": "markdown",
      "source": [
        "Cuando haya terminado de trabajar en una libreta, puede cerrar la ventana, pero todos los cambios que haya realizado desaparecerán. Si realiza algún cambio que desee conservar, abra el menú `Archivo` en la parte superior izquierda. Verás varias formas de guardar el cuaderno.\n",
        "\n",
        "Si tiene una cuenta de Google, puede guardar la libreta en su Drive.\n",
        "\n",
        "Si tiene una cuenta de GitHub, puede guardarla en GitHub.\n",
        "\n",
        "O si desea guardar el cuaderno en su computadora, seleccione \"Descargar\" y luego \"Descargar .ipynb\". El sufijo \".ipynb\" indica que es un archivo de cuaderno, a diferencia de \".R\", que indica un archivo que contiene código `R` únicamente."
      ],
      "metadata": {
        "id": "uUzZBJytGcSl"
      }
    },
    {
      "cell_type": "markdown",
      "source": [
        "Para más información sobre Colab, haz click en el siguiente enlace https://colab.research.google.com/notebooks/basic_features_overview.ipynb."
      ],
      "metadata": {
        "id": "PM-Pc9f0GdAl"
      }
    },
    {
      "cell_type": "markdown",
      "source": [
        "Texto adaptado de https://colab.research.google.com/github/AllenDowney/ThinkStats/blob/v3/nb/jupyter_intro.ipynb#scrollTo=IrqR-x8ZFCdj \"Think Stats\" por Allen B. Downey"
      ],
      "metadata": {
        "id": "HFVApLzQIGcs"
      }
    }
  ]
}